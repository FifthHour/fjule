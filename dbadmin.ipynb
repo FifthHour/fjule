{
 "cells": [
  {
   "cell_type": "code",
   "execution_count": 1,
   "metadata": {},
   "outputs": [],
   "source": [
    "import sqlite3\n",
    "import random\n",
    "\n",
    "conn = sqlite3.connect(\"test.db\")\n",
    "\n",
    "# function for select all row factory\n",
    "\n",
    "\n",
    "def select_all_rf(table: str) -> list:\n",
    "    \"\"\"Returns a list of row factory objects\"\"\"\n",
    "\n",
    "    conn.row_factory = sqlite3.Row\n",
    "    c = conn.cursor()\n",
    "\n",
    "    c.execute(f\"select rowid, * from {table}\")\n",
    "    rows = c.fetchall()  # also works with fetchone\n",
    "    conn.commit()\n",
    "\n",
    "    return rows\n",
    "\n",
    "\n",
    "def print_select_all(table: str) -> None:\n",
    "    \"\"\"convenience function that wraps ```select_all_rf``` and\n",
    "    prints returned rows as dict\"\"\"\n",
    "\n",
    "    for row in select_all_rf(table):\n",
    "        print(dict(row))\n",
    "\n"
   ]
  },
  {
   "cell_type": "markdown",
   "metadata": {},
   "source": [
    "ENABLE WAL MODE"
   ]
  },
  {
   "cell_type": "code",
   "execution_count": 4,
   "metadata": {},
   "outputs": [],
   "source": [
    "c = conn.cursor()\n",
    "c.execute(\"pragma journal_mode=WAL\")\n",
    "conn.commit()\n"
   ]
  },
  {
   "cell_type": "markdown",
   "metadata": {},
   "source": [
    "### TABLES"
   ]
  },
  {
   "cell_type": "markdown",
   "metadata": {},
   "source": [
    "CREATE TABLE"
   ]
  },
  {
   "cell_type": "code",
   "execution_count": 100,
   "metadata": {},
   "outputs": [],
   "source": [
    "c = conn.cursor()\n",
    "c.execute(\n",
    "    \"\"\"create table if not exists entries (entry_id integer primary key, driver_id integer, miles, kms,\n",
    "    foreign key (driver_id) references drivers (driver_id))\"\"\"\n",
    ")\n",
    "c.execute(\"\"\"create table if not exists drivers (driver_id integer primary key, driver_name)\n",
    "    \"\"\"\n",
    ")  # if not exists is needed to stop operational error if exists\n",
    "conn.commit()\n",
    "\n"
   ]
  },
  {
   "cell_type": "markdown",
   "metadata": {},
   "source": [
    "DROP TABLE"
   ]
  },
  {
   "cell_type": "code",
   "execution_count": 96,
   "metadata": {},
   "outputs": [],
   "source": [
    "c = conn.cursor()\n",
    "\n",
    "c.execute(\"drop table if exists entries\")\n",
    "c.execute(\"drop table if exists drivers\")\n",
    "conn.commit()"
   ]
  },
  {
   "cell_type": "code",
   "execution_count": 102,
   "metadata": {},
   "outputs": [
    {
     "ename": "IndexError",
     "evalue": "list index out of range",
     "output_type": "error",
     "traceback": [
      "\u001b[0;31m---------------------------------------------------------------------------\u001b[0m",
      "\u001b[0;31mIndexError\u001b[0m                                Traceback (most recent call last)",
      "\u001b[1;32m/Users/bd/fh/fjule/dbadmin.ipynb Cell 9'\u001b[0m in \u001b[0;36m<cell line: 6>\u001b[0;34m()\u001b[0m\n\u001b[1;32m      <a href='vscode-notebook-cell:/Users/bd/fh/fjule/dbadmin.ipynb#ch0000025?line=2'>3</a>\u001b[0m sch \u001b[39m=\u001b[39m c\u001b[39m.\u001b[39mfetchall()\n\u001b[1;32m      <a href='vscode-notebook-cell:/Users/bd/fh/fjule/dbadmin.ipynb#ch0000025?line=3'>4</a>\u001b[0m conn\u001b[39m.\u001b[39mcommit()\n\u001b[0;32m----> <a href='vscode-notebook-cell:/Users/bd/fh/fjule/dbadmin.ipynb#ch0000025?line=5'>6</a>\u001b[0m sch[\u001b[39m0\u001b[39;49m]\u001b[39m.\u001b[39mkeys()\n",
      "\u001b[0;31mIndexError\u001b[0m: list index out of range"
     ]
    }
   ],
   "source": [
    "c = conn.cursor()\n",
    "c.execute(\"select * from entries limit 1\")\n",
    "sch = c.fetchall()\n",
    "conn.commit()\n",
    "\n",
    "sch[0].keys()"
   ]
  },
  {
   "cell_type": "markdown",
   "metadata": {},
   "source": [
    "### CREATE"
   ]
  },
  {
   "cell_type": "markdown",
   "metadata": {},
   "source": [
    "INSERT"
   ]
  },
  {
   "cell_type": "code",
   "execution_count": 103,
   "metadata": {},
   "outputs": [
    {
     "name": "stdout",
     "output_type": "stream",
     "text": [
      "{'entry_id': 1, 'driver_id': 'Ben', 'miles': 939, 'kms': 1511.174483521117}\n"
     ]
    }
   ],
   "source": [
    "# add a test row, does sqlite create rowids, yes\n",
    "\n",
    "c = conn.cursor()\n",
    "driver = \"Ben\"\n",
    "miles = random.randint(100, 1000)\n",
    "kms = miles / 0.621371\n",
    "c.execute(f\"insert into entries (driver_id, miles, kms) values ('{driver}', {miles}, {kms})\") # ORDER MATTERS\n",
    "\n",
    "conn.commit()\n",
    "\n",
    "print_select_all(\"entries\")\n"
   ]
  },
  {
   "cell_type": "code",
   "execution_count": 106,
   "metadata": {},
   "outputs": [],
   "source": [
    "c = conn.cursor()\n",
    "c.execute(\"insert into drivers (driver_name) values ('Benjay')\")\n",
    "conn.commit()"
   ]
  },
  {
   "cell_type": "markdown",
   "metadata": {},
   "source": [
    "### UPDATE"
   ]
  },
  {
   "cell_type": "markdown",
   "metadata": {},
   "source": [
    "UPDATE"
   ]
  },
  {
   "cell_type": "code",
   "execution_count": 21,
   "metadata": {},
   "outputs": [
    {
     "name": "stdout",
     "output_type": "stream",
     "text": [
      "{'rowid': 1, 'miles': 210, 'kms': 337.9623445574383}\n",
      "{'rowid': 2, 'miles': 271, 'kms': 22222}\n",
      "{'rowid': 3, 'miles': 772, 'kms': 1242.413952373059}\n"
     ]
    }
   ],
   "source": [
    "c = conn.cursor()\n",
    "c.execute(\"update entries set kms = 22222 where rowid=2\")\n",
    "conn.commit()\n",
    "\n",
    "print_select_all(\"entries\")\n"
   ]
  },
  {
   "cell_type": "markdown",
   "metadata": {},
   "source": [
    "### DELETE"
   ]
  },
  {
   "cell_type": "markdown",
   "metadata": {},
   "source": [
    "DELETE"
   ]
  },
  {
   "cell_type": "code",
   "execution_count": 22,
   "metadata": {},
   "outputs": [
    {
     "name": "stdout",
     "output_type": "stream",
     "text": [
      "{'rowid': 1, 'miles': 210, 'kms': 337.9623445574383}\n",
      "{'rowid': 2, 'miles': 271, 'kms': 22222}\n"
     ]
    }
   ],
   "source": [
    "c = conn.cursor()\n",
    "c.execute(\"delete from entries where rowid=3\")\n",
    "conn.commit()\n",
    "\n",
    "print_select_all(\"entries\")\n"
   ]
  },
  {
   "cell_type": "markdown",
   "metadata": {},
   "source": [
    "### READ"
   ]
  },
  {
   "cell_type": "markdown",
   "metadata": {},
   "source": [
    "ROWFACTORY FETCH MANY"
   ]
  },
  {
   "cell_type": "code",
   "execution_count": 7,
   "metadata": {},
   "outputs": [
    {
     "name": "stdout",
     "output_type": "stream",
     "text": [
      "<class 'sqlite3.Row'>\n",
      "{'rowid': 1, 'miles': 210, 'kms': 337.9623445574383}\n"
     ]
    }
   ],
   "source": [
    "conn.row_factory = sqlite3.Row\n",
    "c = conn.cursor()\n",
    "\n",
    "c.execute(\"select rowid, * from entries\")\n",
    "rows = c.fetchall()  # also works with fetchone\n",
    "conn.commit()\n",
    "for row in rows:\n",
    "    print(type(row))\n",
    "    print(dict(row))\n"
   ]
  }
 ],
 "metadata": {
  "kernelspec": {
   "display_name": "Python 3.10.0 ('fjule-venv': venv)",
   "language": "python",
   "name": "python3"
  },
  "language_info": {
   "codemirror_mode": {
    "name": "ipython",
    "version": 3
   },
   "file_extension": ".py",
   "mimetype": "text/x-python",
   "name": "python",
   "nbconvert_exporter": "python",
   "pygments_lexer": "ipython3",
   "version": "3.10.0"
  },
  "orig_nbformat": 4,
  "vscode": {
   "interpreter": {
    "hash": "cba4c375c546d1e7140195c9bcffabd8e0f7babd72a62306fe36681d59ae744d"
   }
  }
 },
 "nbformat": 4,
 "nbformat_minor": 2
}
